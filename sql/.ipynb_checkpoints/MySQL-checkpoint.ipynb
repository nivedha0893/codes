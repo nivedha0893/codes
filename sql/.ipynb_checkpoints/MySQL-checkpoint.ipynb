{
 "cells": [
  {
   "cell_type": "markdown",
   "metadata": {},
   "source": [
    "## 1. Installation of MySQL \n",
    "\n",
    "```\n",
    "sudo apt-get install mysql-server\n",
    "```\n",
    "\n",
    "## Starting and Stopping the MySQL Server\n",
    "\n",
    "### Status of MySQL server\n",
    "\n",
    "```\n",
    "sudo service mysql status\n",
    "```\n",
    "\n",
    "### Stop the MySQL server\n",
    "```\n",
    "sudo service mysql stop\n",
    "```\n",
    "\n",
    "### Start the MySQL server\n",
    "```\n",
    "sudo service mysql start\n",
    "```\n"
   ]
  },
  {
   "cell_type": "markdown",
   "metadata": {},
   "source": [
    "## 2. Login into MySQL server\n",
    "```\n",
    "sudo mysql -u root -p\n",
    "```\n",
    "\n",
    "## set the password requirement\n",
    "```\n",
    "SET GLOBAL validate_password_length = 6;\n",
    "SET GLOBAL validate_password_policy = 0;\n",
    "SET GLOBAL validate_password_number_count = 0;\n",
    "```\n",
    "## Create new user \n",
    "```\n",
    "CREATE USER 'niveraj'@'localhost' IDENTIFIED BY 'testing';\n",
    "```\n",
    "\n",
    "## Grant Permission for new user\n",
    "```\n",
    "GRANT ALL PRIVILEGES ON *.* TO 'niveraj'@'localhost';\n",
    "```\n",
    "\n",
    "## List all the MySQL users\n",
    "```\n",
    "SELECT User,Host FROM mysql.user;\n",
    "```\n",
    "\n",
    "## quit the MySQL server\n",
    "```\n",
    "quit\n",
    "```"
   ]
  },
  {
   "cell_type": "markdown",
   "metadata": {},
   "source": [
    "## 3. MANAGE DATABASE\n",
    "\n",
    "### CREATE A NEW DATABASE\n",
    "```\n",
    "CREATE DATABASE testdb;\n",
    "```\n",
    "\n",
    "### VIEW ALL THE DATABASES\n",
    "```\n",
    "SHOW DATABASES;\n",
    "```\n",
    "\n",
    "### USE A DATABASE\n",
    "```\n",
    "USE sampledb;\n",
    "```\n",
    "\n",
    "### view the list of databases current in use\n",
    "```\n",
    "SELECT DATABASE();\n",
    "```\n",
    "\n",
    "### VIEW ALL THE TABLES IN DATABASE\n",
    "```\n",
    "SHOW TABLES;\n",
    "```\n",
    "\n",
    "### VIEW TABLE IN PARTICULAR DATABASE\n",
    "```\n",
    "SHOW TABLES IN sampledb\n",
    "```\n",
    "\n",
    "\n",
    "### Push the new database from command line\n",
    "```\n",
    "$ sudo mysql -t < databasa.sql;\n",
    "```\n",
    "\n",
    "\n"
   ]
  },
  {
   "cell_type": "code",
   "execution_count": null,
   "metadata": {},
   "outputs": [],
   "source": [
    "## 4. "
   ]
  }
 ],
 "metadata": {
  "kernelspec": {
   "display_name": "Python 3",
   "language": "python",
   "name": "python3"
  },
  "language_info": {
   "codemirror_mode": {
    "name": "ipython",
    "version": 3
   },
   "file_extension": ".py",
   "mimetype": "text/x-python",
   "name": "python",
   "nbconvert_exporter": "python",
   "pygments_lexer": "ipython3",
   "version": "3.6.4"
  }
 },
 "nbformat": 4,
 "nbformat_minor": 2
}
